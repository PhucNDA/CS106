{
 "cells": [
  {
   "cell_type": "code",
   "execution_count": 2,
   "metadata": {
    "id": "g8P_laMcSQNk"
   },
   "outputs": [],
   "source": [
    "import gym\n",
    "import numpy as np\n",
    "import random"
   ]
  },
  {
   "cell_type": "code",
   "execution_count": 3,
   "metadata": {
    "id": "xifGZ8j-SWPT"
   },
   "outputs": [],
   "source": [
    "env = gym.make('FrozenLake-v1')"
   ]
  },
  {
   "cell_type": "code",
   "execution_count": 4,
   "metadata": {
    "colab": {
     "base_uri": "https://localhost:8080/"
    },
    "id": "KpG5Q7_XSdPw",
    "outputId": "00dc8863-676c-40a9-c008-b6cb05d862f4"
   },
   "outputs": [
    {
     "name": "stdout",
     "output_type": "stream",
     "text": [
      "[[0. 0. 0. 0.]\n",
      " [0. 0. 0. 0.]\n",
      " [0. 0. 0. 0.]\n",
      " [0. 0. 0. 0.]\n",
      " [0. 0. 0. 0.]\n",
      " [0. 0. 0. 0.]\n",
      " [0. 0. 0. 0.]\n",
      " [0. 0. 0. 0.]\n",
      " [0. 0. 0. 0.]\n",
      " [0. 0. 0. 0.]\n",
      " [0. 0. 0. 0.]\n",
      " [0. 0. 0. 0.]\n",
      " [0. 0. 0. 0.]\n",
      " [0. 0. 0. 0.]\n",
      " [0. 0. 0. 0.]\n",
      " [0. 0. 0. 0.]]\n"
     ]
    }
   ],
   "source": [
    "# Initialize Q-value table randomly\n",
    "q_table = np.zeros((env.observation_space.n, env.action_space.n))\n",
    "print(q_table)"
   ]
  },
  {
   "cell_type": "code",
   "execution_count": 5,
   "metadata": {
    "id": "dFsyfXH5Ssd6"
   },
   "outputs": [],
   "source": [
    "# Hyperparameters\n",
    "gamma = 0.99\n",
    "learning_rate = 0.1\n",
    "max_epsilon = 1.0\n",
    "min_epsilon = 0.01\n",
    "epsilon_decay_rate = 0.005\n",
    "\n",
    "num_episodes = 20000\n",
    "num_steps_per_episode = 100"
   ]
  },
  {
   "cell_type": "code",
   "execution_count": 6,
   "metadata": {
    "id": "d3xVez-WTeww"
   },
   "outputs": [],
   "source": [
    "def q_learning(env, num_episodes, num_steps_per_episode, learning_rate, gamma, max_epsilon, min_epsilon, epsilon_decay_rate):\n",
    "    q_table = np.zeros((env.observation_space.n, env.action_space.n))\n",
    "    rewards_all = []\n",
    "    \n",
    "    #Loop qua cac episodes\n",
    "    for episode in range(num_episodes):\n",
    "        #Chon state\n",
    "        state = env.reset()\n",
    "        reward_episode = 0.0\n",
    "        \n",
    "        #Epsilon de chọn Q\n",
    "        epsilon = min_epsilon + (max_epsilon - min_epsilon) * np.exp(-epsilon_decay_rate*episode)\n",
    "        #Loop qua cac step\n",
    "        for step in range(num_steps_per_episode):\n",
    "            #Chon cac action dua vao uniform distribution\n",
    "            exploration = random.uniform(0,1)\n",
    "            if exploration < epsilon:\n",
    "                action = env.action_space.sample()\n",
    "            else:\n",
    "                action = np.argmax(q_table[state, :])\n",
    "\n",
    "            next_state, reward, done, info = env.step(action)\n",
    "            \n",
    "            #Sample dung Q(s',a')\n",
    "            sample=reward + gamma * np.max(q_table[next_state,:])\n",
    "            q_table[state, action] = q_table[state, action] * (1 - learning_rate) + learning_rate * sample\n",
    "            \n",
    "            #Chuyen sang trang thai tiep theo\n",
    "            reward_episode += reward\n",
    "            state = next_state\n",
    "\n",
    "        rewards_all.append(reward_episode)\n",
    "    print(f'Episode {episode} finished')\n",
    "    return q_table, rewards_all"
   ]
  },
  {
   "cell_type": "code",
   "execution_count": 7,
   "metadata": {
    "colab": {
     "base_uri": "https://localhost:8080/"
    },
    "id": "jmauQUIQVOWr",
    "outputId": "d3e6e2af-6879-4fda-8199-50528fc49f5a"
   },
   "outputs": [
    {
     "name": "stdout",
     "output_type": "stream",
     "text": [
      "Episode 19999 finished\n"
     ]
    }
   ],
   "source": [
    "q_table, rewards_all = q_learning(env, num_episodes, num_steps_per_episode, learning_rate, gamma, max_epsilon, min_epsilon, epsilon_decay_rate)"
   ]
  },
  {
   "cell_type": "code",
   "execution_count": 8,
   "metadata": {
    "colab": {
     "base_uri": "https://localhost:8080/"
    },
    "id": "XBf-s9wsVX5Z",
    "outputId": "40d70b19-c132-4385-e8c6-ae0d320a5e66"
   },
   "outputs": [
    {
     "data": {
      "text/plain": [
       "array([[0.50985362, 0.49754822, 0.49971187, 0.50750294],\n",
       "       [0.1405199 , 0.19037764, 0.1924024 , 0.41916744],\n",
       "       [0.36678353, 0.24477699, 0.19629246, 0.23721159],\n",
       "       [0.06622066, 0.02850666, 0.01257789, 0.03179335],\n",
       "       [0.52867696, 0.28153736, 0.34454449, 0.3409691 ],\n",
       "       [0.        , 0.        , 0.        , 0.        ],\n",
       "       [0.19429715, 0.15380782, 0.22025807, 0.03658189],\n",
       "       [0.        , 0.        , 0.        , 0.        ],\n",
       "       [0.35235289, 0.48453744, 0.42547966, 0.57184271],\n",
       "       [0.24911765, 0.60716654, 0.5350564 , 0.47419033],\n",
       "       [0.52402329, 0.45986577, 0.44609885, 0.40472264],\n",
       "       [0.        , 0.        , 0.        , 0.        ],\n",
       "       [0.        , 0.        , 0.        , 0.        ],\n",
       "       [0.30787971, 0.51331269, 0.75805442, 0.63874783],\n",
       "       [0.68746698, 0.88841536, 0.77731511, 0.77565364],\n",
       "       [0.        , 0.        , 0.        , 0.        ]])"
      ]
     },
     "execution_count": 8,
     "metadata": {},
     "output_type": "execute_result"
    }
   ],
   "source": [
    "q_table"
   ]
  },
  {
   "cell_type": "code",
   "execution_count": 9,
   "metadata": {
    "colab": {
     "base_uri": "https://localhost:8080/"
    },
    "id": "8MAozcopVdi_",
    "outputId": "c2256b00-d09d-48f6-c26b-4338efda609e"
   },
   "outputs": [
    {
     "data": {
      "text/plain": [
       "643.0"
      ]
     },
     "execution_count": 9,
     "metadata": {},
     "output_type": "execute_result"
    }
   ],
   "source": [
    "sum(rewards_all)\n",
    "sum(rewards_all[0:1000])\n",
    "sum(rewards_all[1000:2000])\n",
    "sum(rewards_all[2000:3000])\n",
    "sum(rewards_all[9000:10000])"
   ]
  },
  {
   "cell_type": "code",
   "execution_count": 10,
   "metadata": {
    "id": "yGopsD0IWpDO"
   },
   "outputs": [],
   "source": [
    "def play(env, q_table, render=False):\n",
    "    state = env.reset()\n",
    "    total_reward = 0\n",
    "    steps = 0\n",
    "    done = False\n",
    "    while not done:\n",
    "        action = np.argmax(q_table[state, :])\n",
    "        next_state, reward, done, info = env.step(action)\n",
    "        total_reward += reward\n",
    "        steps += 1\n",
    "        if render:\n",
    "            env.render()\n",
    "            time.sleep(0.2)\n",
    "            if not done:\n",
    "                display.clear_output(wait=True)\n",
    "        state = next_state\n",
    "\n",
    "    return (total_reward, steps)"
   ]
  },
  {
   "cell_type": "code",
   "execution_count": 11,
   "metadata": {
    "id": "2l8BKi9TSqRe"
   },
   "outputs": [],
   "source": [
    "def play_multiple_times(env, q_table, max_episodes):\n",
    "    success = 0\n",
    "    list_of_steps = []\n",
    "    for i in range(max_episodes):\n",
    "        total_reward, steps = play(env, q_table)\n",
    "\n",
    "        if total_reward > 0:\n",
    "            success += 1\n",
    "            list_of_steps.append(steps)\n",
    "\n",
    "    print(f'Number of successes: {success}/{max_episodes}')\n",
    "    print(f'Average number of steps: {np.mean(list_of_steps)}')"
   ]
  },
  {
   "cell_type": "code",
   "execution_count": 12,
   "metadata": {
    "colab": {
     "base_uri": "https://localhost:8080/"
    },
    "id": "hs-EbCUUSvf2",
    "outputId": "796c486c-9793-4e6f-f7ac-ed452e864824"
   },
   "outputs": [
    {
     "name": "stdout",
     "output_type": "stream",
     "text": [
      "Number of successes: 732/1000\n",
      "Average number of steps: 37.72950819672131\n"
     ]
    }
   ],
   "source": [
    "play_multiple_times(env, q_table, 1000)"
   ]
  },
  {
   "cell_type": "markdown",
   "metadata": {
    "id": "bm4CcsAzSx-f"
   },
   "source": [
    "# Sarsa"
   ]
  },
  {
   "cell_type": "markdown",
   "metadata": {},
   "source": [
    "Em cài đặt sarsa dựa trên epsilon thường, epsilon-greedy chỉ khác ở cách chúng ta lấy mẫu"
   ]
  },
  {
   "cell_type": "code",
   "execution_count": 34,
   "metadata": {},
   "outputs": [],
   "source": [
    "def sarsa(env, num_episodes, num_steps_per_episode, learning_rate, gamma, max_epsilon, min_epsilon, epsilon_decay_rate):\n",
    "    q_table = np.zeros((env.observation_space.n, env.action_space.n))\n",
    "    rewards_all = []\n",
    "    \n",
    "    #Loop qua cac episodes\n",
    "    for episode in range(num_episodes):\n",
    "        #Chon state\n",
    "        state = env.reset()\n",
    "        reward_episode = 0.0\n",
    "        #Epsilon de chọn action a\n",
    "        epsilon = min_epsilon + (max_epsilon - min_epsilon) * np.exp(-epsilon_decay_rate*episode)\n",
    "        \n",
    "        exploration = random.uniform(0,1)\n",
    "        if exploration < epsilon:\n",
    "            action = env.action_space.sample()\n",
    "        else:\n",
    "            action = np.argmax(q_table[state, :])\n",
    "            \n",
    "       \n",
    "        #Loop qua cac step\n",
    "        for step in range(num_steps_per_episode):\n",
    "            #s' next state tiep theo\n",
    "            next_state, reward, done, info = env.step(action)\n",
    "            #Chon cac next_action dua vao uniform distribution cua next_state\n",
    "            exploration = random.uniform(0,1)\n",
    "            if exploration < epsilon:\n",
    "                next_action = env.action_space.sample()\n",
    "            else:\n",
    "                next_action = np.argmax(q_table[next_state, :])     \n",
    "            \n",
    "            #Sample dung Q\n",
    "            sample=reward + gamma * q_table[next_state,next_action] - q_table[state, action]\n",
    "            q_table[state, action] += learning_rate * sample\n",
    "            \n",
    "            #Chuyen sang trang thai tiep theo\n",
    "            reward_episode += reward\n",
    "            state = next_state\n",
    "            #action cho action tiep theo\n",
    "            action = next_action\n",
    "\n",
    "        rewards_all.append(reward_episode)\n",
    "    print(f'Episode {episode} finished')\n",
    "    return q_table, rewards_all"
   ]
  },
  {
   "cell_type": "code",
   "execution_count": 35,
   "metadata": {},
   "outputs": [
    {
     "name": "stdout",
     "output_type": "stream",
     "text": [
      "Episode 19999 finished\n"
     ]
    }
   ],
   "source": [
    "q_table, rewards_all = sarsa(env, num_episodes, num_steps_per_episode, learning_rate, gamma, max_epsilon, min_epsilon, epsilon_decay_rate)"
   ]
  },
  {
   "cell_type": "code",
   "execution_count": 36,
   "metadata": {},
   "outputs": [
    {
     "data": {
      "text/plain": [
       "array([[4.95677042e-01, 4.77333015e-01, 4.87914438e-01, 4.81475033e-01],\n",
       "       [2.74252569e-01, 2.69696414e-01, 2.54725514e-01, 4.47125405e-01],\n",
       "       [3.60343207e-01, 2.39055636e-01, 2.25335646e-01, 2.58172078e-01],\n",
       "       [1.16249905e-01, 5.41688077e-03, 4.84734456e-03, 1.30185155e-05],\n",
       "       [5.14373365e-01, 4.46029606e-01, 3.42420821e-01, 2.61657013e-01],\n",
       "       [0.00000000e+00, 0.00000000e+00, 0.00000000e+00, 0.00000000e+00],\n",
       "       [2.91796623e-01, 8.56077464e-02, 1.29456447e-01, 9.08350372e-02],\n",
       "       [0.00000000e+00, 0.00000000e+00, 0.00000000e+00, 0.00000000e+00],\n",
       "       [3.83817244e-01, 3.52833228e-01, 3.62901046e-01, 5.87465994e-01],\n",
       "       [3.28417872e-01, 6.41419822e-01, 3.79476993e-01, 2.96657038e-01],\n",
       "       [5.70624841e-01, 2.74660829e-01, 3.17744512e-01, 3.17334098e-01],\n",
       "       [0.00000000e+00, 0.00000000e+00, 0.00000000e+00, 0.00000000e+00],\n",
       "       [0.00000000e+00, 0.00000000e+00, 0.00000000e+00, 0.00000000e+00],\n",
       "       [2.69951586e-01, 4.50936548e-01, 7.48952100e-01, 4.42927003e-01],\n",
       "       [7.27903189e-01, 9.00261829e-01, 7.07977608e-01, 7.55293208e-01],\n",
       "       [0.00000000e+00, 0.00000000e+00, 0.00000000e+00, 0.00000000e+00]])"
      ]
     },
     "execution_count": 36,
     "metadata": {},
     "output_type": "execute_result"
    }
   ],
   "source": [
    "q_table"
   ]
  },
  {
   "cell_type": "code",
   "execution_count": 37,
   "metadata": {},
   "outputs": [
    {
     "name": "stdout",
     "output_type": "stream",
     "text": [
      "Number of successes: 708/1000\n",
      "Average number of steps: 38.04943502824859\n"
     ]
    }
   ],
   "source": [
    "play_multiple_times(env, q_table, 1000)"
   ]
  },
  {
   "cell_type": "markdown",
   "metadata": {},
   "source": [
    "# Chạy trên các game"
   ]
  },
  {
   "cell_type": "code",
   "execution_count": 38,
   "metadata": {},
   "outputs": [],
   "source": [
    "import time"
   ]
  },
  {
   "cell_type": "markdown",
   "metadata": {},
   "source": [
    "FrozenLake-v1_qlearning"
   ]
  },
  {
   "cell_type": "code",
   "execution_count": 40,
   "metadata": {},
   "outputs": [
    {
     "name": "stdout",
     "output_type": "stream",
     "text": [
      "Episode 19999 finished\n",
      "Time: 55.574570178985596\n",
      "Number of successes: 733/1000\n",
      "Average number of steps: 38.86357435197817\n"
     ]
    }
   ],
   "source": [
    "env = gym.make('FrozenLake-v1')\n",
    "start=time.time()\n",
    "q_table, rewards_all = q_learning(env, num_episodes, num_steps_per_episode, learning_rate, gamma, max_epsilon, min_epsilon, epsilon_decay_rate)\n",
    "end=time.time()\n",
    "print('Time:',end-start)\n",
    "play_multiple_times(env, q_table, 1000)"
   ]
  },
  {
   "cell_type": "markdown",
   "metadata": {},
   "source": [
    "FrozenLake-v1_sarsa"
   ]
  },
  {
   "cell_type": "code",
   "execution_count": 41,
   "metadata": {},
   "outputs": [
    {
     "name": "stdout",
     "output_type": "stream",
     "text": [
      "Episode 19999 finished\n",
      "Time: 39.97438859939575\n",
      "Number of successes: 726/1000\n",
      "Average number of steps: 37.34159779614325\n"
     ]
    }
   ],
   "source": [
    "env = gym.make('FrozenLake-v1')\n",
    "start=time.time()\n",
    "q_table, rewards_all = sarsa(env, num_episodes, num_steps_per_episode, learning_rate, gamma, max_epsilon, min_epsilon, epsilon_decay_rate)\n",
    "end=time.time()\n",
    "print('Time:',end-start)\n",
    "play_multiple_times(env, q_table, 1000)"
   ]
  },
  {
   "cell_type": "markdown",
   "metadata": {},
   "source": [
    "FrozenLake88-v1_qlearning"
   ]
  },
  {
   "cell_type": "code",
   "execution_count": 42,
   "metadata": {},
   "outputs": [
    {
     "name": "stdout",
     "output_type": "stream",
     "text": [
      "Episode 19999 finished\n",
      "Time: 55.39495921134949\n",
      "Number of successes: 0/1000\n",
      "Average number of steps: nan\n"
     ]
    },
    {
     "name": "stderr",
     "output_type": "stream",
     "text": [
      "D:\\Programming Languages Package\\Python\\Python 3.10.1\\lib\\site-packages\\numpy\\core\\fromnumeric.py:3474: RuntimeWarning: Mean of empty slice.\n",
      "  return _methods._mean(a, axis=axis, dtype=dtype,\n",
      "D:\\Programming Languages Package\\Python\\Python 3.10.1\\lib\\site-packages\\numpy\\core\\_methods.py:189: RuntimeWarning: invalid value encountered in double_scalars\n",
      "  ret = ret.dtype.type(ret / rcount)\n"
     ]
    }
   ],
   "source": [
    "env = gym.make('FrozenLake8x8-v1')\n",
    "start=time.time()\n",
    "q_table, rewards_all = q_learning(env, num_episodes, num_steps_per_episode, learning_rate, gamma, max_epsilon, min_epsilon, epsilon_decay_rate)\n",
    "end=time.time()\n",
    "print('Time:',end-start)\n",
    "play_multiple_times(env, q_table, 1000)"
   ]
  },
  {
   "cell_type": "markdown",
   "metadata": {},
   "source": [
    "FrozenLake88-v1_sarsa"
   ]
  },
  {
   "cell_type": "code",
   "execution_count": 44,
   "metadata": {},
   "outputs": [
    {
     "name": "stdout",
     "output_type": "stream",
     "text": [
      "Episode 19999 finished\n",
      "Time: 40.375853061676025\n",
      "Number of successes: 0/1000\n",
      "Average number of steps: nan\n"
     ]
    }
   ],
   "source": [
    "env = gym.make('FrozenLake8x8-v1')\n",
    "start=time.time()\n",
    "q_table, rewards_all = sarsa(env, num_episodes, num_steps_per_episode, learning_rate, gamma, max_epsilon, min_epsilon, epsilon_decay_rate)\n",
    "end=time.time()\n",
    "print('Time:',end-start)\n",
    "play_multiple_times(env, q_table, 1000)"
   ]
  },
  {
   "cell_type": "markdown",
   "metadata": {},
   "source": [
    "Taxi-v3_qlearning"
   ]
  },
  {
   "cell_type": "code",
   "execution_count": 45,
   "metadata": {},
   "outputs": [
    {
     "name": "stdout",
     "output_type": "stream",
     "text": [
      "Episode 19999 finished\n",
      "Time: 55.947017431259155\n",
      "Number of successes: 1000/1000\n",
      "Average number of steps: 13.064\n"
     ]
    }
   ],
   "source": [
    "env = gym.make('Taxi-v3')\n",
    "start=time.time()\n",
    "q_table, rewards_all = q_learning(env, num_episodes, num_steps_per_episode, learning_rate, gamma, max_epsilon, min_epsilon, epsilon_decay_rate)\n",
    "end=time.time()\n",
    "print('Time:',end-start)\n",
    "play_multiple_times(env, q_table, 1000)"
   ]
  },
  {
   "cell_type": "markdown",
   "metadata": {},
   "source": [
    "Taxi-v3_sarsa"
   ]
  },
  {
   "cell_type": "code",
   "execution_count": 46,
   "metadata": {},
   "outputs": [
    {
     "name": "stdout",
     "output_type": "stream",
     "text": [
      "Episode 19999 finished\n",
      "Time: 41.048150062561035\n",
      "Number of successes: 1000/1000\n",
      "Average number of steps: 13.016\n"
     ]
    }
   ],
   "source": [
    "env = gym.make('Taxi-v3')\n",
    "start=time.time()\n",
    "q_table, rewards_all = sarsa(env, num_episodes, num_steps_per_episode, learning_rate, gamma, max_epsilon, min_epsilon, epsilon_decay_rate)\n",
    "end=time.time()\n",
    "print('Time:',end-start)\n",
    "play_multiple_times(env, q_table, 1000)"
   ]
  },
  {
   "cell_type": "markdown",
   "metadata": {},
   "source": [
    "Cả 2 thuật toán đều hội tụ dần về phương án tối ưu\n",
    "\n",
    "Ở game taxi, cả 2 thuật toán đều cùng đã hội tụ về phương án tối ưu với hyperparam trên\n",
    "\n",
    "Sarsa chạy nhanh hơn Qlearning, thời gian thực hiện nhanh hơn.\n",
    "\n",
    "Các thí nghiệm được thực hiện trên 11th Gen Intel(R) Core(TM) i7-11800H @ 2.30GHz   2.30 GHz (Không dùng GPU)"
   ]
  }
 ],
 "metadata": {
  "colab": {
   "collapsed_sections": [],
   "name": "Q-Learning.ipynb",
   "provenance": []
  },
  "kernelspec": {
   "display_name": "Python 3 (ipykernel)",
   "language": "python",
   "name": "python3"
  },
  "language_info": {
   "codemirror_mode": {
    "name": "ipython",
    "version": 3
   },
   "file_extension": ".py",
   "mimetype": "text/x-python",
   "name": "python",
   "nbconvert_exporter": "python",
   "pygments_lexer": "ipython3",
   "version": "3.10.1"
  }
 },
 "nbformat": 4,
 "nbformat_minor": 1
}
